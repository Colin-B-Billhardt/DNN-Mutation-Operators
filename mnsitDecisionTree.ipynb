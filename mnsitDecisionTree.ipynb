{
 "cells": [
  {
   "cell_type": "code",
   "execution_count": 1,
   "metadata": {},
   "outputs": [],
   "source": [
    "#mnist decision tree \n",
    "\n",
    "import os\n",
    "import tensorflow as tf\n",
    "import numpy as np\n",
    "from tensorflow import keras\n",
    "from tensorflow.keras import layers\n",
    "import pandas as pd\n",
    "from IPython.display import display\n",
    "from sklearn import tree\n",
    "import matplotlib.pyplot as plt\n",
    "from sklearn.tree import plot_tree"
   ]
  },
  {
   "cell_type": "code",
   "execution_count": 3,
   "metadata": {},
   "outputs": [],
   "source": [
    "#getting MNIST Data\n",
    "from keras.datasets import mnist\n",
    "\n",
    "# load dataset\n",
    "(x_train, y_train),(x_test, y_test) = mnist.load_data()\n",
    "\n",
    "# image dimensions (assumed square)\n",
    "image_size = x_train.shape[1]\n",
    "input_size = image_size * image_size\n",
    "input_size\n",
    "\n",
    "# resize and normalize\n",
    "x_train = np.reshape(x_train, [-1, input_size])\n",
    "x_train = x_train.astype('float32') / 255\n",
    "x_test = np.reshape(x_test, [-1, input_size])\n",
    "x_test = x_test.astype('float32') / 255"
   ]
  },
  {
   "cell_type": "code",
   "execution_count": 4,
   "metadata": {},
   "outputs": [
    {
     "name": "stdout",
     "output_type": "stream",
     "text": [
      "1875/1875 [==============================] - 4s 2ms/step\n",
      "[array([[0.6257425 , 0.        , 2.4945147 , ..., 0.        , 0.        ,\n",
      "        0.        ],\n",
      "       [0.        , 0.        , 0.        , ..., 0.        , 0.        ,\n",
      "        0.        ],\n",
      "       [0.        , 1.0786021 , 0.        , ..., 0.        , 2.6160905 ,\n",
      "        0.        ],\n",
      "       ...,\n",
      "       [1.2144166 , 0.        , 1.4393182 , ..., 0.        , 0.        ,\n",
      "        0.        ],\n",
      "       [0.15306075, 0.        , 0.        , ..., 0.        , 0.        ,\n",
      "        0.        ],\n",
      "       [0.        , 0.        , 0.        , ..., 0.        , 0.        ,\n",
      "        0.        ]], dtype=float32)]\n"
     ]
    }
   ],
   "source": [
    "#Getting dense layer outputs\n",
    "\n",
    "selected_layers = [1]\n",
    "\n",
    "\n",
    "test_input = x_train\n",
    "num_inp = len(test_input)\n",
    "\n",
    "model = keras.models.load_model(r\"C:\\Users\\benic\\Desktop\\MNISTModel.h5\")\n",
    "\n",
    "layer_outputs = [model.layers[layer].output for layer in selected_layers]\n",
    "activation_model = keras.models.Model(inputs=model.input, outputs=layer_outputs)\n",
    "activations = activation_model.predict(test_input)\n",
    "#print(activations)\n",
    "\n",
    "acts_combined = []\n",
    "if type(activations) is list:\n",
    "    activations = [x.reshape(num_inp, -1) for x in activations]\n",
    "    activations = np.hstack(activations)\n",
    "else:\n",
    "    activations = activations.reshape(num_inp, -1)\n",
    "\n",
    "#print(len(activations))\n",
    "acts_combined.append(activations)\n",
    "\n",
    "\n",
    "print(acts_combined)"
   ]
  }
 ],
 "metadata": {
  "kernelspec": {
   "display_name": "Python 3",
   "language": "python",
   "name": "python3"
  },
  "language_info": {
   "codemirror_mode": {
    "name": "ipython",
    "version": 3
   },
   "file_extension": ".py",
   "mimetype": "text/x-python",
   "name": "python",
   "nbconvert_exporter": "python",
   "pygments_lexer": "ipython3",
   "version": "3.11.4"
  },
  "orig_nbformat": 4
 },
 "nbformat": 4,
 "nbformat_minor": 2
}
